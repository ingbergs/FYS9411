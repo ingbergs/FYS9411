{
 "cells": [
  {
   "cell_type": "code",
   "execution_count": 39,
   "id": "8cdc15dc-9e73-4254-975b-e0f8f8a895c4",
   "metadata": {},
   "outputs": [
    {
     "data": {
      "image/png": "[encoded data removed]",
      "text/plain": [
       "<Figure size 640x480 with 1 Axes>"
      ]
     },
     "metadata": {},
     "output_type": "display_data"
    }
   ],
   "source": [
    "import numpy as np\n",
    "import matplotlib.pyplot as plt\n",
    "\n",
    "N=3000\n",
    "L=0.03\n",
    "\n",
    "k0=1e-6\n",
    "kL=1e-1\n",
    "\n",
    "p0=1500\n",
    "pL=2500\n",
    "\n",
    "dL=L/N\n",
    "\n",
    "tykkelse=np.linspace(3e-4, 1e-4, N)\n",
    "bredde=np.linspace(1e-4, 3e-4, N)\n",
    "p=np.linspace(p0, pL, N)\n",
    "k_lin=np.linspace(k0, kL, N)\n",
    "k_log=np.logspace(np.log10(k0), np.log10(kL), N)\n",
    "x=np.linspace(0, L, N)\n",
    "\n",
    "m = tykkelse*bredde*dL*p\n",
    "\n",
    "w_lin=np.sqrt(k_lin/m)\n",
    "#w_lin=k_lin/m\n",
    "w_log=np.sqrt(k_log/m)\n",
    "\n",
    "plt.plot(x, w_lin, label='lin')\n",
    "plt.plot(x, w_log, label='log')\n",
    "#plt.yscale('log')\n",
    "plt.legend()\n",
    "plt.show()\n",
    "\n"
   ]
  },
  {
   "cell_type": "code",
   "execution_count": 73,
   "id": "3dcef93c-730f-442d-89d9-02c66ab1aa2f",
   "metadata": {},
   "outputs": [
    {
     "name": "stdout",
     "output_type": "stream",
     "text": [
      "18.25993821926592\n",
      "141.30209574129614\n",
      "30.41487217013747\n"
     ]
    }
   ],
   "source": [
    "b=5e-8\n",
    "i=1800\n",
    "err = 0.6\n",
    "k_err = err*m[i]\n",
    "m_err = err*m[i]\n",
    "#print(np.sqrt(k_log[i]*m[i]/b))\n",
    "#print(np.sqrt((k_log[i]-k_err)*(m[i]-m_err)/b**2))\n",
    "print(np.sqrt(k_log[i]*m[i]/(b**2)))\n",
    "\n",
    "#print(np.sqrt(k_lin[i]*m[i]/b))\n",
    "print(np.sqrt(k_lin[i]*m[i]/(b**2)))\n",
    "\n",
    "x[i]\n",
    "\n",
    "Q=50000\n",
    "f=261.64\n",
    "print(Q/(2*np.pi*f))"
   ]
  },
  {
   "cell_type": "code",
   "execution_count": 75,
   "id": "abf54892-3e43-455f-8bce-317ee95fb71c",
   "metadata": {},
   "outputs": [
    {
     "data": {
      "text/plain": [
       "15.811388300841898"
      ]
     },
     "execution_count": 75,
     "metadata": {},
     "output_type": "execute_result"
    }
   ],
   "source": [
    "np.sqrt(25e-6/1e-7)"
   ]
  },
  {
   "cell_type": "code",
   "execution_count": 78,
   "id": "41ac6ee9-6826-45b8-b41e-300579b71382",
   "metadata": {},
   "outputs": [
    {
     "data": {
      "text/plain": [
       "0.010138759337705925"
      ]
     },
     "execution_count": 78,
     "metadata": {},
     "output_type": "execute_result"
    }
   ],
   "source": [
    "18/(np.pi*2*270)"
   ]
  },
  {
   "cell_type": "code",
   "execution_count": 45,
   "id": "71e61c6b-b911-42f7-9845-bde41a52ebcb",
   "metadata": {},
   "outputs": [
    {
     "data": {
      "text/plain": [
       "-10.339223227677007"
      ]
     },
     "execution_count": 45,
     "metadata": {},
     "output_type": "execute_result"
    }
   ],
   "source": [
    "num = 1/(25*100)-(1/np.sqrt(25*100)+0.032*2*np.pi)**2\n",
    "deno = (1/np.sqrt(25*100)+0.032*2*np.pi)/25\n",
    "\n",
    "np.arctan(deno/num)*180/np.pi"
   ]
  },
  {
   "cell_type": "code",
   "execution_count": 44,
   "id": "6e4e6b1d-49ed-49b3-8af1-0cdd427ebacb",
   "metadata": {},
   "outputs": [
    {
     "data": {
      "text/plain": [
       "-45.432957347282304"
      ]
     },
     "execution_count": 44,
     "metadata": {},
     "output_type": "execute_result"
    }
   ],
   "source": [
    "np.arctan(-1/0.985)*180/np.pi"
   ]
  },
  {
   "cell_type": "code",
   "execution_count": 56,
   "id": "25d45ec8-3044-4254-a034-d001f2fd3254",
   "metadata": {},
   "outputs": [
    {
     "data": {
      "text/plain": [
       "-0.9853723003359149"
      ]
     },
     "execution_count": 56,
     "metadata": {},
     "output_type": "execute_result"
    }
   ],
   "source": [
    "L = 25e-6\n",
    "R = 1\n",
    "C = 1e-7\n",
    "Q = 15.8\n",
    "\n",
    "a = np.sqrt(L/C)\n",
    "b = 1+1/(2*Q)\n",
    "\n",
    "(a-a*b**2)/b/R\n",
    "#np.arctan((a-a*b**2)/b/R)*180/np.pi"
   ]
  },
  {
   "cell_type": "code",
   "execution_count": 53,
   "id": "b470cb1c-547c-4f8b-bba4-32da52413d72",
   "metadata": {},
   "outputs": [
    {
     "data": {
      "text/plain": [
       "-0.9853723003359149"
      ]
     },
     "execution_count": 53,
     "metadata": {},
     "output_type": "execute_result"
    }
   ],
   "source": [
    "a=5*np.sqrt(10)\n",
    "b=1+1/(2*15.8)\n",
    "\n",
    "(a-a*b**2)/b"
   ]
  },
  {
   "cell_type": "code",
   "execution_count": 70,
   "id": "c65bac80-a387-4999-9dc0-f30e7ac4ff01",
   "metadata": {},
   "outputs": [
    {
     "data": {
      "text/plain": [
       "0.7853981633974483"
      ]
     },
     "execution_count": 70,
     "metadata": {},
     "output_type": "execute_result"
    }
   ],
   "source": [
    "np.pi/4"
   ]
  },
  {
   "cell_type": "code",
   "execution_count": null,
   "id": "baef5f6d-35dc-4f43-ac38-752231a3a920",
   "metadata": {},
   "outputs": [],
   "source": []
  }
 ],
 "metadata": {
  "kernelspec": {
   "display_name": "Python 3 (ipykernel)",
   "language": "python",
   "name": "python3"
  },
  "language_info": {
   "codemirror_mode": {
    "name": "ipython",
    "version": 3
   },
   "file_extension": ".py",
   "mimetype": "text/x-python",
   "name": "python",
   "nbconvert_exporter": "python",
   "pygments_lexer": "ipython3",
   "version": "3.9.13"
  }
 },
 "nbformat": 4,
 "nbformat_minor": 5
}
