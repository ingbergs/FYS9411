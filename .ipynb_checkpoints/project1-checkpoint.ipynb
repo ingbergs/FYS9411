{
 "cells": [
  {
   "cell_type": "markdown",
   "id": "43d18269-a5c0-4485-a2ee-26399142b035",
   "metadata": {},
   "source": [
    "# Project 1 - March 31"
   ]
  },
  {
   "cell_type": "markdown",
   "id": "7ad318fc-35e4-4688-a84a-97acc5ddcf50",
   "metadata": {},
   "source": [
    "$^{87}$Rb \n",
    "* Characteristic dimension of trap: $a_{ho} = (\\hbar/m\\omega_{\\perp})^{1/2} = 1-2\\cdot 10^4$ Å\n",
    "* Scattering range: $a_{Rb}=100a_0 (50a_0<a_{Rb}<140a_0 $, where $a_0 = 0.5292$ Å is the Bohr radius)\n",
    "* Atom to trap size ratio: $a_{Rb}/a_{ho}=4.33\\cdot 10^{-3}$\n",
    "* Density in trap: $n\\simeq 10^{12} - 10^{14}$ atoms/cm$^3$\n",
    "* Interatomic spacing: $l\\simeq10^{4}$ Å \n",
    "* Atom is small compared to trap size and interatomic spacing"
   ]
  },
  {
   "cell_type": "markdown",
   "id": "47d7e2ec-111a-4fef-bb22-8f5057136e13",
   "metadata": {},
   "source": [
    "## Oppgave b)\n",
    "\n",
    "1 dimension, 1 particle"
   ]
  },
  {
   "cell_type": "code",
   "execution_count": 53,
   "id": "4acc9802-ba63-4452-909f-202129e7c623",
   "metadata": {},
   "outputs": [
    {
     "name": "stdout",
     "output_type": "stream",
     "text": [
      "0.530037\n"
     ]
    }
   ],
   "source": [
    "import numpy as np\n",
    "from math import exp, sqrt\n",
    "from random import random, seed\n",
    "import matplotlib.pyplot as plt\n",
    "\n",
    "def Psi(r, alpha):\n",
    "    return exp(-alpha*r[0,0]**2) \n",
    "\n",
    "def E_L(r, alpha):\n",
    "    psi = Psi(r, alpha)\n",
    "    deriv = (-2*alpha+4*alpha**2*r[0,0]**2)*psi\n",
    "    return -0.5*(1/psi)*deriv+0.5*r[0,0]**2\n",
    "\n",
    "def MonteCarlo():\n",
    "    accept_rate=0\n",
    "    n_MCC=100000\n",
    "    step_size = 4.0 \n",
    "    pos_old = np.zeros((N, dimension), np.double)\n",
    "    pos_new = np.zeros((N, dimension), np.double)\n",
    "    \n",
    "    seed()\n",
    "    \n",
    "    a = 0.2 \n",
    "    for ia in range(max_var):\n",
    "        a += 0.05 \n",
    "        alpha[ia] = a\n",
    "        energy = 0\n",
    "        energy2 = 0\n",
    "        \n",
    "        \n",
    "        # place the particles randomly\n",
    "        for i in range(N):\n",
    "            for j in range(dimension):\n",
    "                pos_old[i, j] = step_size*(random()-0.5)\n",
    "        psi_old = Psi(pos_old, a)\n",
    "        deltaE = E_L(pos_old, a)\n",
    "        \n",
    "        teller=0\n",
    "        for MCC in range(n_MCC):\n",
    "            # create a trial for new position\n",
    "            for i in range(N):\n",
    "                for j in range(dimension):\n",
    "                    pos_new[i, j] = pos_old[i, j] + step_size*(random()-0.5)\n",
    "            psi_new = Psi(pos_new, a)\n",
    "            \n",
    "            #Metropolis test\n",
    "            if random() < psi_new**2/psi_old**2:\n",
    "                pos_old = pos_new.copy()\n",
    "                psi_old = psi_new\n",
    "                deltaE = E_L(pos_old, a)\n",
    "                teller+=1\n",
    "            energy += deltaE\n",
    "            energy2 += deltaE**2\n",
    "        \n",
    "        energy /= n_MCC\n",
    "        energy2 /= n_MCC\n",
    "        variance = energy2 - energy**2\n",
    "        error = np.sqrt(variance/n_MCC)\n",
    "        Energies[ia] = energy   \n",
    "        Variances[ia] = variance \n",
    "        accept_rate+=teller/n_MCC\n",
    "    return Energies, alpha, accept_rate/max_var\n",
    "        \n",
    "    \n",
    "    \n",
    "N = 1\n",
    "dimension = 1\n",
    "max_var = 10\n",
    "alpha = np.zeros(max_var)\n",
    "Energies = np.zeros(max_var)\n",
    "Variances = np.zeros(max_var)\n",
    "\n",
    "\n",
    "Energies, alpha, accept_rate = MonteCarlo()\n",
    "print(accept_rate) #burde være ca 0.5-0.6, økes med mindre steglengde"
   ]
  },
  {
   "cell_type": "markdown",
   "id": "e6e4e602-2a58-41a7-8a5c-26ad607d0b5d",
   "metadata": {},
   "source": [
    "plt.plot(alpha, Energies)\n",
    "plt.grid(True)\n",
    "plt.xlabel(r'$\\alpha$')\n",
    "plt.ylabel('E')\n",
    "plt.show()\n",
    "\n",
    "plt.plot(alpha, Variances)\n",
    "plt.grid(True)\n",
    "plt.xlabel(r'$\\alpha$')\n",
    "plt.ylabel(r'$\\sigma$')\n",
    "plt.show()"
   ]
  },
  {
   "cell_type": "markdown",
   "id": "2183f9ec-8f76-443d-87da-adf1f0be6405",
   "metadata": {},
   "source": [
    "Neste:\n",
    "* legg til numerisk derivasjon\n",
    "* test for 10, 100 og 500 partikler\n",
    "* 1 partikkel i 2 og 3 dimensjoner\n",
    "* 10, 100, 500 partikler i 2 og 3 dimensjoner\n",
    "* for alle testene: plott både analytisk og numerisk derivasjon for å sammenlikne"
   ]
  },
  {
   "cell_type": "code",
   "execution_count": 6,
   "id": "0b27675f-aa40-467c-b57a-67d3f0eb26af",
   "metadata": {
    "tags": []
   },
   "outputs": [],
   "source": [
    "import numpy as np\n",
    "from math import exp, sqrt\n",
    "from random import random, seed\n",
    "import matplotlib.pyplot as plt\n",
    "\n",
    "def f(a, r_ij):\n",
    "    if r_ij > a:\n",
    "        return 1-a/r_ij\n",
    "    else:\n",
    "        return 0\n",
    "\n",
    "def g(alpha, beta, r_i):\n",
    "    x_i = r_i[0]\n",
    "    if len(r_i) == 3:\n",
    "        y_i = r_i[1]\n",
    "        z_i = r_i[2]\n",
    "    elif len(r_i) == 2:\n",
    "        y_i = r_i[1]\n",
    "        z_i = 0\n",
    "    else:\n",
    "        y_i = 0\n",
    "        z_i = 0\n",
    "    return exp(-alpha*(x_i**2+y_i**2+beta*z_i**2))\n",
    "\n",
    "def Psi_1D(r, alpha):\n",
    "    factor1 = 1\n",
    "    factor2 = 1\n",
    "    for i in range(N):\n",
    "        factor1 *= g(alpha, 1, r[i])\n",
    "    for i in range(N):\n",
    "        for j in range(i+1, N):\n",
    "            r_ij = abs(r[i][0]-r[j][0])\n",
    "            factor2 *= f(0, r_ij)\n",
    "    #return factor1*factor2\n",
    "    return exp(-alpha*r[0,0]**2)\n",
    "\n",
    "def E_L2(r, a):\n",
    "    E_L = 0\n",
    "    for i in range(N):\n",
    "        r2 = r[0, 0]**2\n",
    "        r = r[0, 0]\n",
    "        deno = 1.0/(1+r)\n",
    "        deno2 = deno*deno\n",
    "    return 0.5*(1-a*a)*(r) +2.0*a + 1.0/r+deno2*(a*r-deno2+2*deno-1.0/r)\n",
    "\n",
    "def E_L(r, a):\n",
    "    #return 0.5*(a**2+r[0,0]**2*(1-a**4))\n",
    "    return a+0.5*r[0,0]**2-2*a**2*r[0,0]**2\n",
    "\n",
    "def MonteCarlo():\n",
    "    n_MCC=10000\n",
    "    step_size = 1.0 # educated guess? standard?\n",
    "    pos_old = np.zeros((N, dimension), np.double)\n",
    "    pos_new = np.zeros((N, dimension), np.double)\n",
    "    \n",
    "    seed()\n",
    "    \n",
    "    a = 0.4 #how do one set initial alpha and beta and determine the step\n",
    "    for ia in range(max_var):\n",
    "        a += 0.025 # change this?\n",
    "        alpha[ia] = a\n",
    "        energy = 0\n",
    "        energy2 = 0\n",
    "        deltaE = 0\n",
    "        \n",
    "        # place the particles randomly\n",
    "        for i in range(N):\n",
    "            for j in range(dimension):\n",
    "                pos_old[i, j] = step_size*(random()-0.5)\n",
    "        psi_old = Psi_1D(pos_old, a)\n",
    "        \n",
    "        for MCC in range(n_MCC):\n",
    "            # create a trial for new position\n",
    "            for i in range(N):\n",
    "                for j in range(dimension):\n",
    "                    pos_new[i, j] = pos_old[i, j] + step_size*(random()-0.5)\n",
    "            psi_new = Psi_1D(pos_new, a)\n",
    "            \n",
    "            #Metropolis test\n",
    "            if random() < psi_new**2/psi_old**2:\n",
    "                pos_old = pos_new\n",
    "                psi_old = psi_new\n",
    "                deltaE = E_L(pos_old, a)\n",
    "            energy += deltaE\n",
    "            energy2 += deltaE**2\n",
    "        \n",
    "        energy /= n_MCC\n",
    "        energy2 /= n_MCC\n",
    "        variance = energy2 - energy**2\n",
    "        error = np.sqrt(variance/n_MCC)\n",
    "        Energies[ia] = energy   \n",
    "        Variances[ia] = variance \n",
    "    return Energies, alpha\n",
    "        \n",
    "    \n",
    "    \n",
    "N = 1\n",
    "dimension = 1\n",
    "max_var = 10\n",
    "alpha = np.zeros(max_var)\n",
    "Energies = np.zeros(max_var)\n",
    "Variances = np.zeros(max_var)\n",
    "\n"
   ]
  },
  {
   "cell_type": "code",
   "execution_count": 7,
   "id": "eb89469e-0f69-4dbb-9fca-6265b6ac9a20",
   "metadata": {},
   "outputs": [
    {
     "name": "stderr",
     "output_type": "stream",
     "text": [
      "C:\\Users\\ingbergs\\AppData\\Local\\Temp\\ipykernel_17724\\2128995458.py:90: RuntimeWarning: invalid value encountered in sqrt\n",
      "  error = np.sqrt(variance/n_MCC)\n"
     ]
    },
    {
     "data": {
      "image/png": "[encoded data removed]",
      "text/plain": [
       "<Figure size 640x480 with 1 Axes>"
      ]
     },
     "metadata": {},
     "output_type": "display_data"
    },
    {
     "data": {
      "image/png": "[encoded data removed]",
      "text/plain": [
       "<Figure size 640x480 with 1 Axes>"
      ]
     },
     "metadata": {},
     "output_type": "display_data"
    }
   ],
   "source": [
    "E_mean=[]\n",
    "for i in range(max_var):\n",
    "    E_mean.append(0)\n",
    "\n",
    "k=10\n",
    "for i in range(k):\n",
    "    Energies, alpha = MonteCarlo()\n",
    "    for j in range(max_var):\n",
    "        E_mean[j] += Energies[j]/k\n",
    "    #print(E_mean-Energies)\n",
    "    #plt.plot(alpha, Energies)\n",
    "#plt.plot(alpha, E_mean, linestyle='dashed', linewidth = 2)   \n",
    "#plt.plot(alpha, 0.25*(alpha**2+1./alpha**2), linestyle='dashed', linewidth = 2) \n",
    "#plt.plot(alpha, 0.5*(alpha+1./(4*alpha)), linestyle='dashed', linewidth = 2)  \n",
    "plt.plot(alpha, Energies)\n",
    "plt.show()\n",
    "\n",
    "#print(0.5*(alpha+1./(4*alpha)))\n",
    "plt.plot(alpha, Variances)\n",
    "plt.show()"
   ]
  },
  {
   "cell_type": "code",
   "execution_count": null,
   "id": "cdf6604f-387c-498f-8f73-31db9fbd1039",
   "metadata": {},
   "outputs": [],
   "source": []
  }
 ],
 "metadata": {
  "kernelspec": {
   "display_name": "Python 3 (ipykernel)",
   "language": "python",
   "name": "python3"
  },
  "language_info": {
   "codemirror_mode": {
    "name": "ipython",
    "version": 3
   },
   "file_extension": ".py",
   "mimetype": "text/x-python",
   "name": "python",
   "nbconvert_exporter": "python",
   "pygments_lexer": "ipython3",
   "version": "3.9.13"
  }
 },
 "nbformat": 4,
 "nbformat_minor": 5
}
